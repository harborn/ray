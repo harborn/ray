{
 "cells": [
  {
   "cell_type": "markdown",
   "metadata": {},
   "source": [
    "# Fine-tuning Llama-2 Model with HPU\n",
    "\n",
    "In this Jupyter notebook, we will fine-tune a [Llama-2-7b](https://huggingface.co/meta-llama/Llama-2-7b-chat-hf) model by using HPU in DDP accelerate mode. We will use PyTorch for model training and Ray for distributed training. We will use dataset [tatsu-lab/alpaca](https://huggingface.co/datasets/tatsu-lab/alpaca).\n",
    "\n",
    "[Habana Gaudi AI Processors (HPUs)](https://habana.ai) are AI hardware accelerators designed by Habana Labs. For more information, see [Gaudi Architecture](https://docs.habana.ai/en/latest/Gaudi_Overview/index.html) and [Gaudi Developer Docs](https://developer.habana.ai/).\n",
    "\n",
    "Basic features for this fine-tuning example are:\n",
    "- Running on HPUs, support three execution mode: \"lazy\", \"eager\", \"eager.compile\".\n",
    "- LoRA training.\n",
    "- [`GaudiTrainer`](https://github.com/huggingface/optimum-habana/blob/main/optimum/habana/transformers/trainer.py) based training.\n",
    "- Llama-2-7b model.\n",
    "- Ray based scheduling and management."
   ]
  },
  {
   "cell_type": "markdown",
   "metadata": {},
   "source": [
    "## Prepare environment\n",
    "A node with Gaudi/Gaudi2 installed is required to run this example. This example will use 4 workers to train the model, each using 1 HPU.\n",
    "\n",
    "We recommend using a prebuilt container to run these examples. To run a container, you need Docker. See [Install Docker Engine](https://docs.docker.com/engine/install/) for installation instructions.\n",
    "\n",
    "Next, follow [Run Using Containers](https://docs.habana.ai/en/latest/Installation_Guide/Bare_Metal_Fresh_OS.html?highlight=installer#run-using-containers) to install the Habana drivers and container runtime.\n",
    "\n",
    "### Get docker image\n",
    "``` bash\n",
    "docker pull vault.habana.ai/gaudi-docker/1.15.1/ubuntu22.04/habanalabs/pytorch-installer-2.2.0:latest\n",
    "```\n",
    "### Run docker image\n",
    "``` bash\n",
    "docker run -it --runtime=habana -e HABANA_VISIBLE_DEVICES=all -e OMPI_MCA_btl_vader_single_copy_mechanism=none --cap-add=sys_nice --net=host --ipc=host vault.habana.ai/gaudi-docker/1.15.1/ubuntu22.04/habanalabs/pytorch-installer-2.2.0:latest\n",
    "# maybe should mapping your workspace volumns\n",
    "```\n",
    "### Install dependency\n",
    "``` bash\n",
    "pip install ray[train] notebook transformers datasets evaluate peft accelerate optimum-habana\n",
    "```"
   ]
  },
  {
   "cell_type": "markdown",
   "metadata": {},
   "source": [
    "## Import necessary libraries"
   ]
  },
  {
   "cell_type": "code",
   "execution_count": 1,
   "metadata": {},
   "outputs": [
    {
     "name": "stderr",
     "output_type": "stream",
     "text": [
      "/usr/local/lib/python3.10/dist-packages/transformers/utils/generic.py:462: UserWarning: torch.utils._pytree._register_pytree_node is deprecated. Please use torch.utils._pytree.register_pytree_node instead.\n",
      "  _torch_pytree._register_pytree_node(\n",
      "/usr/local/lib/python3.10/dist-packages/transformers/utils/generic.py:319: UserWarning: torch.utils._pytree._register_pytree_node is deprecated. Please use torch.utils._pytree.register_pytree_node instead.\n",
      "  _torch_pytree._register_pytree_node(\n",
      "/usr/local/lib/python3.10/dist-packages/transformers/utils/generic.py:319: UserWarning: torch.utils._pytree._register_pytree_node is deprecated. Please use torch.utils._pytree.register_pytree_node instead.\n",
      "  _torch_pytree._register_pytree_node(\n"
     ]
    }
   ],
   "source": [
    "import os\n",
    "import copy\n",
    "import time\n",
    "from typing import Dict\n",
    "\n",
    "import torch\n",
    "from torch import nn\n",
    "from torch.utils.data import DataLoader\n",
    "\n",
    "import datasets\n",
    "import transformers\n",
    "from transformers import (\n",
    "    Trainer,\n",
    "    TrainingArguments,\n",
    "    AutoTokenizer,\n",
    "    DataCollatorForLanguageModeling,\n",
    "    AutoModelForSequenceClassification,\n",
    ")\n",
    "\n",
    "from tqdm import tqdm\n",
    "\n",
    "import peft\n",
    "\n",
    "import ray.train\n",
    "from ray.train import ScalingConfig\n",
    "from ray.train.torch import TorchTrainer\n",
    "from ray.train.torch import TorchConfig\n",
    "\n",
    "import habana_frameworks.torch.core as htcore\n",
    "\n",
    "from optimum.habana import GaudiTrainer, GaudiConfig, GaudiTrainingArguments\n",
    "from optimum.habana.transformers.modeling_utils import adapt_transformers_to_gaudi"
   ]
  },
  {
   "cell_type": "markdown",
   "metadata": {},
   "source": [
    "## Prepare Dataset Function\n",
    "\n",
    "Preprocessing the raw dataset's each line with specified format."
   ]
  },
  {
   "cell_type": "code",
   "execution_count": 2,
   "metadata": {},
   "outputs": [],
   "source": [
    "\n",
    "def preprocess_dataset(raw_datasets):\n",
    "\n",
    "    PROMPT_DICT = {\n",
    "        \"prompt_with_input\": (\n",
    "            \"Below is an instruction that describes a task, paired with an input that provides further context. \"\n",
    "            \"Write a response that appropriately completes the request.\\n\\n\"\n",
    "            \"### Instruction:\\n{instruction}\\n\\n### Input:\\n{input}\\n\\n### Response:\"\n",
    "        ),\n",
    "        \"prompt_without_input\": (\n",
    "            \"Below is an instruction that describes a task. \"\n",
    "            \"Write a response that appropriately completes the request.\\n\\n\"\n",
    "            \"### Instruction:\\n{instruction}\\n\\n### Response:\"\n",
    "        ),\n",
    "    }\n",
    "\n",
    "    def create_prompts(examples):\n",
    "        prompts = {}\n",
    "        prompts[\"source\"] = []\n",
    "        prompts[\"target\"] = []\n",
    "        for example in examples:\n",
    "            prompt_template = (\n",
    "                PROMPT_DICT[\"prompt_with_input\"] if example[\"input\"] != \"\" else PROMPT_DICT[\"prompt_without_input\"]\n",
    "            )\n",
    "            source = prompt_template.format_map(example)\n",
    "            prompts[\"source\"].append(source)\n",
    "            prompts[\"target\"].append(example[\"output\"])\n",
    "        return prompts\n",
    "\n",
    "    # Preprocessing the datasets.\n",
    "    for key in raw_datasets:\n",
    "        prompts = create_prompts(raw_datasets[key])\n",
    "        columns_to_be_removed = list(raw_datasets[key].features.keys())\n",
    "        raw_datasets[key] = raw_datasets[key].add_column(\"prompt_sources\", prompts[\"source\"])\n",
    "        raw_datasets[key] = raw_datasets[key].add_column(\"prompt_targets\", prompts[\"target\"])\n",
    "        raw_datasets[key] = raw_datasets[key].remove_columns(columns_to_be_removed)"
   ]
  },
  {
   "cell_type": "markdown",
   "metadata": {},
   "source": [
    "## Dataset to Tokenizer Function\n",
    "\n",
    "Tokenize each line in dataset by model tokenizer.\n",
    "\n",
    "In example codes, we concatenate the dataset's line content to accelerate training speed.\n",
    "\n",
    "All datasets are processed as \"train\" datasets, no evaluation datasets are sampled from raw_datasets."
   ]
  },
  {
   "cell_type": "code",
   "execution_count": 3,
   "metadata": {},
   "outputs": [],
   "source": [
    "\n",
    "def preprocess_dataset_to_tokenizer(raw_datasets, tokenizer):\n",
    "    max_seq_length = 512\n",
    "    tokenizer.pad_token_id = 0\n",
    "    tokenizer.eos_token_id = 1\n",
    "    tokenizer.bos_token_id = 2\n",
    "\n",
    "    def tokenize(prompt, add_eos_token=True):\n",
    "        results = tokenizer(\n",
    "            prompt,\n",
    "            truncation=True,\n",
    "            max_length=max_seq_length,\n",
    "            padding=False,\n",
    "            return_tensors=None,\n",
    "        )\n",
    "        for i in range(len(results[\"input_ids\"])):\n",
    "            if (\n",
    "                results[\"input_ids\"][i][-1] != tokenizer.eos_token_id\n",
    "                and len(results[\"input_ids\"][i]) < max_seq_length\n",
    "                and add_eos_token\n",
    "            ):\n",
    "                results[\"input_ids\"][i].append(tokenizer.eos_token_id)\n",
    "                results[\"attention_mask\"][i].append(1)\n",
    "\n",
    "        results[\"labels\"] = copy.deepcopy(results[\"input_ids\"])\n",
    "        results[\"input_id_len\"] = [len(result) for result in results[\"input_ids\"]]\n",
    "        return results\n",
    "\n",
    "    def preprocess_function(examples):\n",
    "        keys = list(examples.data.keys())\n",
    "        if len(keys) != 2:\n",
    "            raise ValueError(\"Unsupported dataset format\")\n",
    "\n",
    "        st = [s + t for s, t in zip(examples[keys[0]], examples[keys[1]])]\n",
    "\n",
    "        examples_tokenized = tokenize(st)\n",
    "        input_ids = examples_tokenized[\"input_ids\"]\n",
    "        labels = examples_tokenized[\"labels\"]\n",
    "        return {\n",
    "            \"input_ids\": input_ids,\n",
    "            \"labels\": labels,\n",
    "            \"attention_mask\": examples_tokenized[\"attention_mask\"],\n",
    "        }\n",
    "\n",
    "    tokenized_datasets = raw_datasets.map(\n",
    "        preprocess_function,\n",
    "        batched=True,\n",
    "        load_from_cache_file=True,\n",
    "    )\n",
    "\n",
    "    def concatenate_data(dataset, max_seq_length):\n",
    "        concatenated_dataset = {}\n",
    "        for column in dataset.features:\n",
    "            concatenated_data = [item for sample in dataset[column] for item in sample]\n",
    "            reshaped_data = [\n",
    "                concatenated_data[i * max_seq_length : (i + 1) * max_seq_length]\n",
    "                for i in range(len(concatenated_data) // max_seq_length)\n",
    "            ]\n",
    "            concatenated_dataset[column] = reshaped_data\n",
    "        return datasets.Dataset.from_dict(concatenated_dataset)\n",
    "\n",
    "    tokenized_datasets_ = tokenized_datasets[\"train\"].remove_columns([\"prompt_sources\", \"prompt_targets\"])\n",
    "    tokenized_datasets[\"train\"] = concatenate_data(tokenized_datasets_, max_seq_length)\n",
    "\n",
    "    return tokenized_datasets"
   ]
  },
  {
   "cell_type": "markdown",
   "metadata": {},
   "source": [
    "## Training Function\n",
    "\n",
    "This function will be executed by each worker during training, with following steps:\n",
    "\n",
    "- loading datasets and preprocess datasets, just load the first 4096 item as training datasets.\n",
    "- loading pretrained model as tokenizer, and process datasets to tokenizer.\n",
    "- loading pretrained model, convert to lora model, and move model to HPU device.\n",
    "- preparing data collator.\n",
    "- preparing training args, an instance of `GaudiTrainingArguments`.\n",
    "- preparing instance of `GaudiTrainer`.\n",
    "- calling `train()` to train model.\n",
    "- saving model results.\n",
    "\n",
    "\n",
    "Compared to a training function for GPU, no changes are needed to port to HPU. Internally, Ray Train does these things:\n",
    "\n",
    "- Detect HPU and set the device.\n",
    "- Initialize the habana PyTorch backend.\n",
    "- Initialize the habana distributed backend."
   ]
  },
  {
   "cell_type": "code",
   "execution_count": 4,
   "metadata": {},
   "outputs": [],
   "source": [
    "\n",
    "def train_func_per_worker(config: Dict):\n",
    "    # adapt transformers to gaudi\n",
    "    adapt_transformers_to_gaudi()\n",
    "\n",
    "    # prepare datasets\n",
    "    # here we use dataset \"tatsu-lab/alpaca\" from huggingface\n",
    "    raw_datasets = datasets.DatasetDict({\"train\": datasets.load_dataset(\"tatsu-lab/alpaca\", split='train[0:4096]')})\n",
    "    preprocess_dataset(raw_datasets)\n",
    "\n",
    "    # prepare tokenizer\n",
    "    tokenizer = transformers.AutoTokenizer.from_pretrained(config[\"model\"])\n",
    "    tokenized_datasets = preprocess_dataset_to_tokenizer(raw_datasets, tokenizer)\n",
    "\n",
    "    # prepare model\n",
    "    model = transformers.AutoModelForCausalLM.from_pretrained(config[\"model\"], **config[\"model_config\"])\n",
    "    peft_config = peft.LoraConfig(**config[\"lora_config\"])\n",
    "    model = peft.get_peft_model(model, peft_config)\n",
    "    device = ray.train.torch.get_device()\n",
    "    model.to(dtype=config[\"model_config\"][\"torch_dtype\"], device=device)\n",
    "\n",
    "    # prepare data collator\n",
    "    data_collator = DataCollatorForLanguageModeling(tokenizer, pad_to_multiple_of=8, return_tensors=\"pt\", mlm=False)\n",
    "\n",
    "    # prepare execution mode config\n",
    "    execution_mode = config[\"execution_mode\"]\n",
    "    use_lazy_mode = True if execution_mode == \"lazy\" else False\n",
    "    torch_compile_backend = \"hpu_backend\" if execution_mode == \"eager.compile\" else None\n",
    "\n",
    "    training_args = GaudiTrainingArguments(output_dir=config[\"output\"], do_train=True, do_eval=False, per_device_train_batch_size=config[\"batch_size_per_worker\"],\n",
    "                                           bf16=True, learning_rate=config[\"lr\"], save_strategy=\"no\", torch_compile_backend=torch_compile_backend,\n",
    "                                           evaluation_strategy=\"no\", lr_scheduler_type=\"linear\", num_train_epochs=config[\"epochs\"],\n",
    "                                           use_lazy_mode=use_lazy_mode, use_habana=True, max_grad_norm=0.3, save_only_model=True,\n",
    "                                           warmup_ratio=0.03, throughput_warmup_steps=3, logging_steps=5)\n",
    "\n",
    "    gaudi_config = GaudiConfig()\n",
    "    gaudi_config.use_fused_adam = True\n",
    "    gaudi_config.use_fused_clip_norm = True\n",
    "\n",
    "    trainer = GaudiTrainer(\n",
    "        model=model,\n",
    "        gaudi_config=gaudi_config,\n",
    "        args=training_args,\n",
    "        train_dataset=tokenized_datasets[\"train\"],\n",
    "        eval_dataset=None,\n",
    "        tokenizer=tokenizer,\n",
    "        data_collator=data_collator,\n",
    "        compute_metrics=None,\n",
    "        preprocess_logits_for_metrics=None,\n",
    "    )\n",
    "\n",
    "    train_result = trainer.train()\n",
    "    print(f\"train_result = {train_result}\")\n",
    "    trainer.save_model()\n",
    "\n",
    "    return train_result"
   ]
  },
  {
   "cell_type": "markdown",
   "metadata": {},
   "source": [
    "## Main Training Function\n",
    "The `train_llama` function sets up the distributed training environment using Ray and starts the training process. To enable training using HPU, we only need to make the following changes:\n",
    "- Set the exectuion mode for training, supported execution mode are:\n",
    "\n",
    "    - \"lazy\": Deferred execution of graphs, comprising of ops delivered from script op by op similar to Eager mode. It gives the Eager mode experience with performance on Gaudi. Unlike Eager Mode with torch.compile, graph is analyzed in each iteration leading to a higher CPU usage.\n",
    "    - \"eager\": Op-by-op execution as defined in standard PyTorch Eager mode scripts.\n",
    "    - \"eager.compile\": Eager mode extended with `torch.compile` - Similar to Eager mode but extended with wrapping complete or part of model (such as a function) into a graph. Parts that are not wrapped are executed eagerly.\n",
    "\n",
    "    More detail theory can be found [here](https://docs.habana.ai/en/latest/PyTorch/Reference/PyTorch_Gaudi_Theory_of_Operations.html)\n",
    "- Require an HPU for each worker in ScalingConfig\n",
    "- Set backend to `hccl` in TorchConfig"
   ]
  },
  {
   "cell_type": "code",
   "execution_count": 5,
   "metadata": {},
   "outputs": [],
   "source": [
    "\n",
    "def train_llama(num_workers, execution_mode):\n",
    "    # Setting environment variables\n",
    "    os.environ[\"RAY_EXPERIMENTAL_NOSET_HABANA_VISIBLE_MODULES\"] = \"true\"\n",
    "    if execution_mode == \"lazy\":\n",
    "        os.environ[\"PT_HPU_LAZY_MODE\"] = \"1\"\n",
    "    else:\n",
    "        os.environ[\"PT_HPU_LAZY_MODE\"] = \"0\"\n",
    "\n",
    "    # Preparing train configurations\n",
    "    train_config = {\n",
    "        \"execution_mode\": execution_mode,\n",
    "        \"model\": \"/root/models/llama-7b\",\n",
    "        \"model_config\": {\"torch_dtype\": torch.bfloat16, \"trust_remote_code\": False, \"use_auth_token\": None},\n",
    "        \"lora_config\": {\"task_type\": \"CAUSAL_LM\", \"r\": 8, \"lora_alpha\": 32, \"lora_dropout\": 0.1, \"target_modules\": [\"q_proj\", \"v_proj\"]},\n",
    "        \"lr\": 1e-4,\n",
    "        \"epochs\": 2,\n",
    "        \"batch_size_per_worker\": 8,\n",
    "        \"output\": \"/tmp/ray/\",\n",
    "    }\n",
    "\n",
    "    # Configure computation resources\n",
    "    # In ScalingConfig, require an HPU for each worker\n",
    "    scaling_config = ScalingConfig(num_workers=num_workers, resources_per_worker={\"CPU\": 1, \"HPU\": 1})\n",
    "    # Set backend to hccl in TorchConfig\n",
    "    torch_config = TorchConfig(backend = \"hccl\")\n",
    "\n",
    "    # start your ray cluster\n",
    "    ray.init()\n",
    "\n",
    "    # Initialize a Ray TorchTrainer\n",
    "    trainer = TorchTrainer(\n",
    "        train_loop_per_worker=train_func_per_worker,\n",
    "        train_loop_config=train_config,\n",
    "        torch_config=torch_config,\n",
    "        scaling_config=scaling_config,\n",
    "    )\n",
    "\n",
    "    result = trainer.fit()\n",
    "    print(f\"Training result: {result}\")"
   ]
  },
  {
   "cell_type": "markdown",
   "metadata": {},
   "source": [
    "## Start Training\n",
    "\n",
    "Finally, we call the `train_llama` function to start the training process. You can adjust the number of workers to use, and the execution mode for HPU."
   ]
  },
  {
   "cell_type": "code",
   "execution_count": 6,
   "metadata": {},
   "outputs": [
    {
     "data": {
      "text/html": [
       "<div class=\"tuneStatus\">\n",
       "  <div style=\"display: flex;flex-direction: row\">\n",
       "    <div style=\"display: flex;flex-direction: column;\">\n",
       "      <h3>Tune Status</h3>\n",
       "      <table>\n",
       "<tbody>\n",
       "<tr><td>Current time:</td><td>2024-04-18 07:34:56</td></tr>\n",
       "<tr><td>Running for: </td><td>00:02:46.83        </td></tr>\n",
       "<tr><td>Memory:      </td><td>95.6/1007.4 GiB    </td></tr>\n",
       "</tbody>\n",
       "</table>\n",
       "    </div>\n",
       "    <div class=\"vDivider\"></div>\n",
       "    <div class=\"systemInfo\">\n",
       "      <h3>System Info</h3>\n",
       "      Using FIFO scheduling algorithm.<br>Logical resource usage: 5.0/160 CPUs, 0/0 GPUs (0.0/1.0 TPU, 4.0/8.0 HPU)\n",
       "    </div>\n",
       "    \n",
       "  </div>\n",
       "  <div class=\"hDivider\"></div>\n",
       "  <div class=\"trialStatus\">\n",
       "    <h3>Trial Status</h3>\n",
       "    <table>\n",
       "<thead>\n",
       "<tr><th>Trial name              </th><th>status    </th><th>loc              </th></tr>\n",
       "</thead>\n",
       "<tbody>\n",
       "<tr><td>TorchTrainer_c3d9a_00000</td><td>TERMINATED</td><td>10.7.4.144:678181</td></tr>\n",
       "</tbody>\n",
       "</table>\n",
       "  </div>\n",
       "</div>\n",
       "<style>\n",
       ".tuneStatus {\n",
       "  color: var(--jp-ui-font-color1);\n",
       "}\n",
       ".tuneStatus .systemInfo {\n",
       "  display: flex;\n",
       "  flex-direction: column;\n",
       "}\n",
       ".tuneStatus td {\n",
       "  white-space: nowrap;\n",
       "}\n",
       ".tuneStatus .trialStatus {\n",
       "  display: flex;\n",
       "  flex-direction: column;\n",
       "}\n",
       ".tuneStatus h3 {\n",
       "  font-weight: bold;\n",
       "}\n",
       ".tuneStatus .hDivider {\n",
       "  border-bottom-width: var(--jp-border-width);\n",
       "  border-bottom-color: var(--jp-border-color0);\n",
       "  border-bottom-style: solid;\n",
       "}\n",
       ".tuneStatus .vDivider {\n",
       "  border-left-width: var(--jp-border-width);\n",
       "  border-left-color: var(--jp-border-color0);\n",
       "  border-left-style: solid;\n",
       "  margin: 0.5em 1em 0.5em 1em;\n",
       "}\n",
       "</style>\n"
      ],
      "text/plain": [
       "<IPython.core.display.HTML object>"
      ]
     },
     "metadata": {},
     "output_type": "display_data"
    },
    {
     "name": "stderr",
     "output_type": "stream",
     "text": [
      "\u001b[36m(pid=678181)\u001b[0m /usr/local/lib/python3.10/dist-packages/transformers/utils/generic.py:462: UserWarning: torch.utils._pytree._register_pytree_node is deprecated. Please use torch.utils._pytree.register_pytree_node instead.\n",
      "\u001b[36m(pid=678181)\u001b[0m   _torch_pytree._register_pytree_node(\n",
      "\u001b[36m(TrainTrainable pid=678181)\u001b[0m /usr/local/lib/python3.10/dist-packages/transformers/utils/generic.py:319: UserWarning: torch.utils._pytree._register_pytree_node is deprecated. Please use torch.utils._pytree.register_pytree_node instead.\n",
      "\u001b[36m(TrainTrainable pid=678181)\u001b[0m   _torch_pytree._register_pytree_node(\n",
      "\u001b[36m(RayTrainWorker pid=678759)\u001b[0m /usr/local/lib/python3.10/dist-packages/transformers/utils/generic.py:462: UserWarning: torch.utils._pytree._register_pytree_node is deprecated. Please use torch.utils._pytree.register_pytree_node instead.\n",
      "\u001b[36m(RayTrainWorker pid=678759)\u001b[0m   _torch_pytree._register_pytree_node(\n",
      "\u001b[36m(RayTrainWorker pid=678761)\u001b[0m /usr/local/lib/python3.10/dist-packages/transformers/utils/generic.py:462: UserWarning: torch.utils._pytree._register_pytree_node is deprecated. Please use torch.utils._pytree.register_pytree_node instead.\n",
      "\u001b[36m(RayTrainWorker pid=678761)\u001b[0m   _torch_pytree._register_pytree_node(\n",
      "\u001b[36m(RayTrainWorker pid=678759)\u001b[0m Setting up process group for: env:// [rank=0, world_size=4]\n",
      "\u001b[36m(TorchTrainer pid=678181)\u001b[0m Started distributed worker processes: \n",
      "\u001b[36m(TorchTrainer pid=678181)\u001b[0m - (ip=10.7.4.144, pid=678759) world_rank=0, local_rank=0, node_rank=0\n",
      "\u001b[36m(TorchTrainer pid=678181)\u001b[0m - (ip=10.7.4.144, pid=678760) world_rank=1, local_rank=1, node_rank=0\n",
      "\u001b[36m(TorchTrainer pid=678181)\u001b[0m - (ip=10.7.4.144, pid=678761) world_rank=2, local_rank=2, node_rank=0\n",
      "\u001b[36m(TorchTrainer pid=678181)\u001b[0m - (ip=10.7.4.144, pid=678762) world_rank=3, local_rank=3, node_rank=0\n",
      "Loading checkpoint shards:   0%|          | 0/2 [00:00<?, ?it/s]\n",
      "\u001b[36m(RayTrainWorker pid=678762)\u001b[0m /usr/local/lib/python3.10/dist-packages/transformers/utils/generic.py:319: UserWarning: torch.utils._pytree._register_pytree_node is deprecated. Please use torch.utils._pytree.register_pytree_node instead.\u001b[32m [repeated 6x across cluster] (Ray deduplicates logs by default. Set RAY_DEDUP_LOGS=0 to disable log deduplication, or see https://docs.ray.io/en/master/ray-observability/user-guides/configure-logging.html#log-deduplication for more options.)\u001b[0m\n",
      "\u001b[36m(RayTrainWorker pid=678762)\u001b[0m   _torch_pytree._register_pytree_node(\u001b[32m [repeated 6x across cluster]\u001b[0m\n",
      "Loading checkpoint shards:  50%|█████     | 1/2 [00:15<00:15, 15.57s/it]\n",
      "Loading checkpoint shards:   0%|          | 0/2 [00:00<?, ?it/s]\u001b[32m [repeated 3x across cluster]\u001b[0m\n",
      "Loading checkpoint shards: 100%|██████████| 2/2 [00:20<00:00, 10.30s/it]\n",
      "Loading checkpoint shards:  50%|█████     | 1/2 [00:15<00:15, 15.71s/it]\u001b[32m [repeated 3x across cluster]\u001b[0m\n",
      "\u001b[36m(RayTrainWorker pid=678759)\u001b[0m ============================= HABANA PT BRIDGE CONFIGURATION =========================== \n",
      "\u001b[36m(RayTrainWorker pid=678759)\u001b[0m  PT_HPU_LAZY_MODE = 1\n",
      "\u001b[36m(RayTrainWorker pid=678759)\u001b[0m  PT_RECIPE_CACHE_PATH = \n",
      "\u001b[36m(RayTrainWorker pid=678759)\u001b[0m  PT_CACHE_FOLDER_DELETE = 0\n",
      "\u001b[36m(RayTrainWorker pid=678759)\u001b[0m  PT_HPU_RECIPE_CACHE_CONFIG = \n",
      "\u001b[36m(RayTrainWorker pid=678759)\u001b[0m  PT_HPU_MAX_COMPOUND_OP_SIZE = 9223372036854775807\n",
      "\u001b[36m(RayTrainWorker pid=678759)\u001b[0m  PT_HPU_LAZY_ACC_PAR_MODE = 1\n",
      "\u001b[36m(RayTrainWorker pid=678759)\u001b[0m  PT_HPU_ENABLE_REFINE_DYNAMIC_SHAPES = 0\n",
      "\u001b[36m(RayTrainWorker pid=678759)\u001b[0m ---------------------------: System Configuration :---------------------------\n",
      "\u001b[36m(RayTrainWorker pid=678759)\u001b[0m Num CPU Cores : 160\n",
      "\u001b[36m(RayTrainWorker pid=678759)\u001b[0m CPU RAM       : 1056375244 KB\n",
      "\u001b[36m(RayTrainWorker pid=678759)\u001b[0m ------------------------------------------------------------------------------\n",
      "Loading checkpoint shards: 100%|██████████| 2/2 [00:20<00:00, 10.33s/it]\u001b[32m [repeated 3x across cluster]\u001b[0m\n",
      "  0%|          | 0/62 [00:00<?, ?it/s]\n",
      "  2%|▏         | 1/62 [00:30<30:44, 30.23s/it]\n",
      "  3%|▎         | 2/62 [01:05<33:25, 33.43s/it]\n",
      "  5%|▍         | 3/62 [01:07<18:45, 19.08s/it]\n",
      "  6%|▋         | 4/62 [01:08<11:18, 11.69s/it]\n",
      "  8%|▊         | 5/62 [01:08<07:13,  7.60s/it]\n",
      "  8%|▊         | 5/62 [01:08<07:13,  7.60s/it]\n"
     ]
    },
    {
     "name": "stdout",
     "output_type": "stream",
     "text": [
      "\u001b[36m(RayTrainWorker pid=678759)\u001b[0m {'loss': 2.2125, 'grad_norm': 1.6171875, 'learning_rate': 9.5e-05, 'epoch': 0.16, 'memory_allocated (GB)': 34.51, 'max_memory_allocated (GB)': 78.71, 'total_memory_available (GB)': 94.62}\n"
     ]
    },
    {
     "name": "stderr",
     "output_type": "stream",
     "text": [
      " 10%|▉         | 6/62 [01:09<04:51,  5.20s/it]\n",
      " 11%|█▏        | 7/62 [01:09<03:19,  3.62s/it]\n",
      " 13%|█▎        | 8/62 [01:09<02:19,  2.58s/it]\n",
      " 15%|█▍        | 9/62 [01:10<01:39,  1.89s/it]\n",
      " 16%|█▌        | 10/62 [01:10<01:13,  1.41s/it]\n",
      " 16%|█▌        | 10/62 [01:10<01:13,  1.41s/it]\n"
     ]
    },
    {
     "name": "stdout",
     "output_type": "stream",
     "text": [
      "\u001b[36m(RayTrainWorker pid=678759)\u001b[0m {'loss': 1.9621, 'grad_norm': 1.2734375, 'learning_rate': 8.666666666666667e-05, 'epoch': 0.32, 'memory_allocated (GB)': 34.51, 'max_memory_allocated (GB)': 78.72, 'total_memory_available (GB)': 94.62}\n"
     ]
    },
    {
     "name": "stderr",
     "output_type": "stream",
     "text": [
      " 18%|█▊        | 11/62 [01:11<00:58,  1.14s/it]\n",
      " 19%|█▉        | 12/62 [01:11<00:45,  1.11it/s]\n",
      " 21%|██        | 13/62 [01:11<00:36,  1.36it/s]\n",
      " 23%|██▎       | 14/62 [01:12<00:29,  1.60it/s]\n",
      " 24%|██▍       | 15/62 [01:12<00:25,  1.83it/s]\n",
      " 24%|██▍       | 15/62 [01:12<00:25,  1.83it/s]\n"
     ]
    },
    {
     "name": "stdout",
     "output_type": "stream",
     "text": [
      "\u001b[36m(RayTrainWorker pid=678759)\u001b[0m {'loss': 1.7611, 'grad_norm': 0.72265625, 'learning_rate': 7.833333333333333e-05, 'epoch': 0.48, 'memory_allocated (GB)': 34.51, 'max_memory_allocated (GB)': 78.72, 'total_memory_available (GB)': 94.62}\n"
     ]
    },
    {
     "name": "stderr",
     "output_type": "stream",
     "text": [
      " 26%|██▌       | 16/62 [01:13<00:24,  1.86it/s]\n",
      " 27%|██▋       | 17/62 [01:13<00:21,  2.05it/s]\n",
      " 29%|██▉       | 18/62 [01:13<00:19,  2.23it/s]\n",
      " 31%|███       | 19/62 [01:14<00:18,  2.37it/s]\n",
      " 32%|███▏      | 20/62 [01:14<00:16,  2.48it/s]\n",
      " 32%|███▏      | 20/62 [01:14<00:16,  2.48it/s]\n"
     ]
    },
    {
     "name": "stdout",
     "output_type": "stream",
     "text": [
      "\u001b[36m(RayTrainWorker pid=678759)\u001b[0m {'loss': 1.69, 'grad_norm': 0.515625, 'learning_rate': 7e-05, 'epoch': 0.65, 'memory_allocated (GB)': 34.51, 'max_memory_allocated (GB)': 78.72, 'total_memory_available (GB)': 94.62}\n"
     ]
    },
    {
     "name": "stderr",
     "output_type": "stream",
     "text": [
      " 34%|███▍      | 21/62 [01:15<00:17,  2.28it/s]\n",
      " 35%|███▌      | 22/62 [01:15<00:16,  2.38it/s]\n",
      " 37%|███▋      | 23/62 [01:15<00:15,  2.50it/s]\n",
      " 39%|███▊      | 24/62 [01:16<00:14,  2.58it/s]\n",
      " 40%|████      | 25/62 [01:16<00:14,  2.62it/s]\n",
      " 40%|████      | 25/62 [01:16<00:14,  2.62it/s]\n"
     ]
    },
    {
     "name": "stdout",
     "output_type": "stream",
     "text": [
      "\u001b[36m(RayTrainWorker pid=678759)\u001b[0m {'loss': 1.5953, 'grad_norm': 0.55859375, 'learning_rate': 6.166666666666667e-05, 'epoch': 0.81, 'memory_allocated (GB)': 34.51, 'max_memory_allocated (GB)': 78.72, 'total_memory_available (GB)': 94.62}\n"
     ]
    },
    {
     "name": "stderr",
     "output_type": "stream",
     "text": [
      " 42%|████▏     | 26/62 [01:17<00:16,  2.23it/s]\n",
      " 44%|████▎     | 27/62 [01:17<00:14,  2.39it/s]\n",
      " 45%|████▌     | 28/62 [01:17<00:13,  2.44it/s]\n",
      " 47%|████▋     | 29/62 [01:18<00:13,  2.53it/s]\n",
      " 48%|████▊     | 30/62 [01:18<00:12,  2.58it/s]\n",
      " 48%|████▊     | 30/62 [01:18<00:12,  2.58it/s]\n"
     ]
    },
    {
     "name": "stdout",
     "output_type": "stream",
     "text": [
      "\u001b[36m(RayTrainWorker pid=678759)\u001b[0m {'loss': 1.4998, 'grad_norm': 0.67578125, 'learning_rate': 5.333333333333333e-05, 'epoch': 0.97, 'memory_allocated (GB)': 34.51, 'max_memory_allocated (GB)': 78.73, 'total_memory_available (GB)': 94.62}\n"
     ]
    },
    {
     "name": "stderr",
     "output_type": "stream",
     "text": [
      " 50%|█████     | 31/62 [01:19<00:14,  2.19it/s]\n",
      " 52%|█████▏    | 32/62 [01:19<00:12,  2.38it/s]\n",
      " 53%|█████▎    | 33/62 [01:19<00:11,  2.48it/s]\n",
      " 55%|█████▍    | 34/62 [01:20<00:11,  2.45it/s]\n",
      " 56%|█████▋    | 35/62 [01:20<00:10,  2.56it/s]\n",
      " 56%|█████▋    | 35/62 [01:20<00:10,  2.56it/s]\n"
     ]
    },
    {
     "name": "stdout",
     "output_type": "stream",
     "text": [
      "\u001b[36m(RayTrainWorker pid=678759)\u001b[0m {'loss': 1.396, 'grad_norm': 0.76171875, 'learning_rate': 4.5e-05, 'epoch': 1.13, 'memory_allocated (GB)': 34.51, 'max_memory_allocated (GB)': 78.73, 'total_memory_available (GB)': 94.62}\n"
     ]
    },
    {
     "name": "stderr",
     "output_type": "stream",
     "text": [
      " 58%|█████▊    | 36/62 [01:21<00:11,  2.19it/s]\n",
      " 60%|█████▉    | 37/62 [01:21<00:10,  2.35it/s]\n",
      " 61%|██████▏   | 38/62 [01:22<00:10,  2.36it/s]\n",
      " 63%|██████▎   | 39/62 [01:22<00:09,  2.32it/s]\n",
      " 65%|██████▍   | 40/62 [01:22<00:08,  2.49it/s]\n"
     ]
    },
    {
     "name": "stdout",
     "output_type": "stream",
     "text": [
      "\u001b[36m(RayTrainWorker pid=678759)\u001b[0m {'loss': 1.2908, 'grad_norm': 0.87890625, 'learning_rate': 3.6666666666666666e-05, 'epoch': 1.29, 'memory_allocated (GB)': 34.51, 'max_memory_allocated (GB)': 78.73, 'total_memory_available (GB)': 94.62}\n"
     ]
    },
    {
     "name": "stderr",
     "output_type": "stream",
     "text": [
      " 65%|██████▍   | 40/62 [01:23<00:08,  2.49it/s]\n",
      " 66%|██████▌   | 41/62 [01:23<00:10,  2.09it/s]\n",
      " 68%|██████▊   | 42/62 [01:23<00:08,  2.26it/s]\n",
      " 69%|██████▉   | 43/62 [01:24<00:07,  2.38it/s]\n",
      " 71%|███████   | 44/62 [01:24<00:07,  2.38it/s]\n",
      " 73%|███████▎  | 45/62 [01:24<00:06,  2.52it/s]\n",
      " 73%|███████▎  | 45/62 [01:25<00:06,  2.52it/s]\n"
     ]
    },
    {
     "name": "stdout",
     "output_type": "stream",
     "text": [
      "\u001b[36m(RayTrainWorker pid=678759)\u001b[0m {'loss': 1.2247, 'grad_norm': 0.76953125, 'learning_rate': 2.8333333333333335e-05, 'epoch': 1.45, 'memory_allocated (GB)': 34.51, 'max_memory_allocated (GB)': 78.73, 'total_memory_available (GB)': 94.62}\n"
     ]
    },
    {
     "name": "stderr",
     "output_type": "stream",
     "text": [
      " 74%|███████▍  | 46/62 [01:25<00:08,  1.91it/s]\n",
      " 76%|███████▌  | 47/62 [01:26<00:07,  2.13it/s]\n",
      " 77%|███████▋  | 48/62 [01:26<00:06,  2.28it/s]\n",
      " 79%|███████▉  | 49/62 [01:26<00:05,  2.25it/s]\n",
      " 81%|████████  | 50/62 [01:27<00:05,  2.26it/s]\n",
      " 81%|████████  | 50/62 [01:27<00:05,  2.26it/s]\n"
     ]
    },
    {
     "name": "stdout",
     "output_type": "stream",
     "text": [
      "\u001b[36m(RayTrainWorker pid=678759)\u001b[0m {'loss': 1.1939, 'grad_norm': 0.54296875, 'learning_rate': 2e-05, 'epoch': 1.61, 'memory_allocated (GB)': 34.51, 'max_memory_allocated (GB)': 78.73, 'total_memory_available (GB)': 94.62}\n"
     ]
    },
    {
     "name": "stderr",
     "output_type": "stream",
     "text": [
      " 82%|████████▏ | 51/62 [01:28<00:05,  1.94it/s]\n",
      " 84%|████████▍ | 52/62 [01:28<00:04,  2.12it/s]\n",
      " 85%|████████▌ | 53/62 [01:28<00:03,  2.28it/s]\n",
      " 87%|████████▋ | 54/62 [01:29<00:03,  2.24it/s]\n",
      " 89%|████████▊ | 55/62 [01:29<00:03,  2.11it/s]\n",
      " 89%|████████▊ | 55/62 [01:30<00:03,  2.11it/s]\n"
     ]
    },
    {
     "name": "stdout",
     "output_type": "stream",
     "text": [
      "\u001b[36m(RayTrainWorker pid=678759)\u001b[0m {'loss': 1.146, 'grad_norm': 0.62109375, 'learning_rate': 1.1666666666666668e-05, 'epoch': 1.77, 'memory_allocated (GB)': 34.51, 'max_memory_allocated (GB)': 78.73, 'total_memory_available (GB)': 94.62}\n"
     ]
    },
    {
     "name": "stderr",
     "output_type": "stream",
     "text": [
      " 90%|█████████ | 56/62 [01:30<00:02,  2.01it/s]\n",
      " 92%|█████████▏| 57/62 [01:30<00:02,  2.17it/s]\n",
      " 94%|█████████▎| 58/62 [01:31<00:01,  2.28it/s]\n",
      " 95%|█████████▌| 59/62 [01:31<00:01,  2.26it/s]\n",
      " 97%|█████████▋| 60/62 [01:32<00:00,  2.29it/s]\n",
      " 97%|█████████▋| 60/62 [01:32<00:00,  2.29it/s]\n"
     ]
    },
    {
     "name": "stdout",
     "output_type": "stream",
     "text": [
      "\u001b[36m(RayTrainWorker pid=678759)\u001b[0m {'loss': 1.1594, 'grad_norm': 0.62109375, 'learning_rate': 3.3333333333333333e-06, 'epoch': 1.94, 'memory_allocated (GB)': 34.51, 'max_memory_allocated (GB)': 78.73, 'total_memory_available (GB)': 94.62}\n"
     ]
    },
    {
     "name": "stderr",
     "output_type": "stream",
     "text": [
      " 98%|█████████▊| 61/62 [01:32<00:00,  2.02it/s]\n",
      "100%|██████████| 62/62 [01:33<00:00,  2.17it/s]\n"
     ]
    },
    {
     "name": "stdout",
     "output_type": "stream",
     "text": [
      "\u001b[36m(RayTrainWorker pid=678760)\u001b[0m train_result = TrainOutput(global_step=62, training_loss=1.500297857869056, metrics={'train_runtime': 93.3311, 'train_samples_per_second': 71.042, 'train_steps_per_second': 2.222, 'total_flos': 4.02963202792489e+16, 'train_loss': 1.500297857869056, 'epoch': 2.0, 'memory_allocated (GB)': 34.51, 'max_memory_allocated (GB)': 78.72, 'total_memory_available (GB)': 94.62})\n",
      "\u001b[36m(RayTrainWorker pid=678759)\u001b[0m {'train_runtime': 93.1812, 'train_samples_per_second': 74.672, 'train_steps_per_second': 2.336, 'train_loss': 1.4982363793157762, 'epoch': 2.0, 'memory_allocated (GB)': 34.51, 'max_memory_allocated (GB)': 78.73, 'total_memory_available (GB)': 94.62}\n",
      "\u001b[36m(RayTrainWorker pid=678759)\u001b[0m train_result = TrainOutput(global_step=62, training_loss=1.4982363793157762, metrics={'train_runtime': 93.1812, 'train_samples_per_second': 74.672, 'train_steps_per_second': 2.336, 'train_loss': 1.4982363793157762, 'epoch': 2.0, 'memory_allocated (GB)': 34.51, 'max_memory_allocated (GB)': 78.73, 'total_memory_available (GB)': 94.62})\n"
     ]
    },
    {
     "name": "stderr",
     "output_type": "stream",
     "text": [
      "100%|██████████| 62/62 [01:33<00:00,  1.50s/it]\n",
      "\u001b[36m(RayTrainWorker pid=678759)\u001b[0m /usr/local/lib/python3.10/dist-packages/peft/utils/save_and_load.py:154: UserWarning: Could not find a config file in /root/models/llama-7b - will assume that the vocabulary was not modified.\n",
      "\u001b[36m(RayTrainWorker pid=678759)\u001b[0m   warnings.warn(\n"
     ]
    },
    {
     "name": "stdout",
     "output_type": "stream",
     "text": [
      "Trial TorchTrainer_c3d9a_00000 completed. Last result: \n"
     ]
    },
    {
     "name": "stderr",
     "output_type": "stream",
     "text": [
      "2024-04-18 07:34:56,353\tINFO tune.py:1011 -- Wrote the latest version of all result files and experiment state to '/root/ray_results/TorchTrainer_2024-04-18_07-32-09' in 0.0056s.\n",
      "2024-04-18 07:34:56,363\tINFO tune.py:1043 -- Total run time: 166.88 seconds (166.82 seconds for the tuning loop).\n"
     ]
    },
    {
     "name": "stdout",
     "output_type": "stream",
     "text": [
      "Training result: Result(\n",
      "  metrics={},\n",
      "  path='/root/ray_results/TorchTrainer_2024-04-18_07-32-09/TorchTrainer_c3d9a_00000_0_2024-04-18_07-32-09',\n",
      "  filesystem='local',\n",
      "  checkpoint=None\n",
      ")\n"
     ]
    }
   ],
   "source": [
    "# execution_mode are [\"lazy\", \"eager\", \"eager.compile\"]\n",
    "train_llama(num_workers=4, execution_mode=\"lazy\")"
   ]
  }
 ],
 "metadata": {
  "kernelspec": {
   "display_name": "Python 3 (ipykernel)",
   "language": "python",
   "name": "python3"
  },
  "language_info": {
   "codemirror_mode": {
    "name": "ipython",
    "version": 3
   },
   "file_extension": ".py",
   "mimetype": "text/x-python",
   "name": "python",
   "nbconvert_exporter": "python",
   "pygments_lexer": "ipython3",
   "version": "3.10.12"
  }
 },
 "nbformat": 4,
 "nbformat_minor": 2
}
